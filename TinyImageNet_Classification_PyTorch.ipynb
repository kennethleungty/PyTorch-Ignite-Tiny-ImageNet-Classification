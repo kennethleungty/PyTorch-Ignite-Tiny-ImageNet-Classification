{
  "nbformat": 4,
  "nbformat_minor": 0,
  "metadata": {
    "kernelspec": {
      "display_name": "Python 3",
      "language": "python",
      "name": "python3"
    },
    "language_info": {
      "codemirror_mode": {
        "name": "ipython",
        "version": 3
      },
      "file_extension": ".py",
      "mimetype": "text/x-python",
      "name": "python",
      "nbconvert_exporter": "python",
      "pygments_lexer": "ipython3",
      "version": "3.8.3"
    },
    "colab": {
      "name": "TinyImageNet_Classification_PyTorch.ipynb",
      "provenance": [],
      "collapsed_sections": [],
      "toc_visible": true
    },
    "accelerator": "GPU"
  },
  "cells": [
    {
      "cell_type": "markdown",
      "metadata": {
        "id": "zxaypIXjNIBl"
      },
      "source": [
        "# Tiny ImageNet Classification with PyTorch\n",
        "\n",
        "### Classification with ResNet-18\n",
        "\n",
        "By: Kenneth Leung\n",
        "___\n",
        "\n",
        "[![Open In Colab](https://colab.research.google.com/assets/colab-badge.svg)](https://colab.research.google.com/drive/1HWfA_JrjoehfZ1zP60MWKo85fBeKccRg?usp=sharing)"
      ]
    },
    {
      "cell_type": "markdown",
      "metadata": {
        "id": "aGe92T8JNIBp"
      },
      "source": [
        "___\n",
        "### 1. Initial setup"
      ]
    },
    {
      "cell_type": "code",
      "metadata": {
        "colab": {
          "base_uri": "https://localhost:8080/"
        },
        "id": "quOs88aKPgEc",
        "outputId": "6e6a15f5-9b12-4ac5-b644-f746677bed25"
      },
      "source": [
        "pip install numpy torch torchvision pytorch-ignite tensorboardX tensorboard opendatasets aim"
      ],
      "execution_count": 1,
      "outputs": [
        {
          "output_type": "stream",
          "text": [
            "Requirement already satisfied: numpy in /usr/local/lib/python3.7/dist-packages (1.19.5)\n",
            "Requirement already satisfied: torch in /usr/local/lib/python3.7/dist-packages (1.9.0+cu102)\n",
            "Requirement already satisfied: torchvision in /usr/local/lib/python3.7/dist-packages (0.10.0+cu102)\n",
            "Requirement already satisfied: pytorch-ignite in /usr/local/lib/python3.7/dist-packages (0.4.6)\n",
            "Requirement already satisfied: tensorboardX in /usr/local/lib/python3.7/dist-packages (2.4)\n",
            "Requirement already satisfied: tensorboard in /usr/local/lib/python3.7/dist-packages (2.3.0)\n",
            "Requirement already satisfied: opendatasets in /usr/local/lib/python3.7/dist-packages (0.1.20)\n",
            "Requirement already satisfied: aim in /usr/local/lib/python3.7/dist-packages (2.7.1)\n",
            "Requirement already satisfied: typing-extensions in /usr/local/lib/python3.7/dist-packages (from torch) (3.7.4.3)\n",
            "Requirement already satisfied: pillow>=5.3.0 in /usr/local/lib/python3.7/dist-packages (from torchvision) (7.1.2)\n",
            "Requirement already satisfied: protobuf>=3.8.0 in /usr/local/lib/python3.7/dist-packages (from tensorboardX) (3.17.3)\n",
            "Requirement already satisfied: six>=1.9 in /usr/local/lib/python3.7/dist-packages (from protobuf>=3.8.0->tensorboardX) (1.15.0)\n",
            "Requirement already satisfied: werkzeug>=0.11.15 in /usr/local/lib/python3.7/dist-packages (from tensorboard) (1.0.1)\n",
            "Requirement already satisfied: wheel>=0.26 in /usr/local/lib/python3.7/dist-packages (from tensorboard) (0.36.2)\n",
            "Requirement already satisfied: grpcio>=1.24.3 in /usr/local/lib/python3.7/dist-packages (from tensorboard) (1.34.1)\n",
            "Requirement already satisfied: absl-py>=0.4 in /usr/local/lib/python3.7/dist-packages (from tensorboard) (0.12.0)\n",
            "Requirement already satisfied: google-auth-oauthlib<0.5,>=0.4.1 in /usr/local/lib/python3.7/dist-packages (from tensorboard) (0.4.4)\n",
            "Requirement already satisfied: markdown>=2.6.8 in /usr/local/lib/python3.7/dist-packages (from tensorboard) (3.3.4)\n",
            "Requirement already satisfied: requests<3,>=2.21.0 in /usr/local/lib/python3.7/dist-packages (from tensorboard) (2.23.0)\n",
            "Requirement already satisfied: setuptools>=41.0.0 in /usr/local/lib/python3.7/dist-packages (from tensorboard) (57.2.0)\n",
            "Requirement already satisfied: tensorboard-plugin-wit>=1.6.0 in /usr/local/lib/python3.7/dist-packages (from tensorboard) (1.8.0)\n",
            "Requirement already satisfied: google-auth<2,>=1.6.3 in /usr/local/lib/python3.7/dist-packages (from tensorboard) (1.32.1)\n",
            "Requirement already satisfied: pyasn1-modules>=0.2.1 in /usr/local/lib/python3.7/dist-packages (from google-auth<2,>=1.6.3->tensorboard) (0.2.8)\n",
            "Requirement already satisfied: cachetools<5.0,>=2.0.0 in /usr/local/lib/python3.7/dist-packages (from google-auth<2,>=1.6.3->tensorboard) (4.2.2)\n",
            "Requirement already satisfied: rsa<5,>=3.1.4 in /usr/local/lib/python3.7/dist-packages (from google-auth<2,>=1.6.3->tensorboard) (4.7.2)\n",
            "Requirement already satisfied: requests-oauthlib>=0.7.0 in /usr/local/lib/python3.7/dist-packages (from google-auth-oauthlib<0.5,>=0.4.1->tensorboard) (1.3.0)\n",
            "Requirement already satisfied: importlib-metadata in /usr/local/lib/python3.7/dist-packages (from markdown>=2.6.8->tensorboard) (4.6.1)\n",
            "Requirement already satisfied: pyasn1<0.5.0,>=0.4.6 in /usr/local/lib/python3.7/dist-packages (from pyasn1-modules>=0.2.1->google-auth<2,>=1.6.3->tensorboard) (0.4.8)\n",
            "Requirement already satisfied: certifi>=2017.4.17 in /usr/local/lib/python3.7/dist-packages (from requests<3,>=2.21.0->tensorboard) (2021.5.30)\n",
            "Requirement already satisfied: idna<3,>=2.5 in /usr/local/lib/python3.7/dist-packages (from requests<3,>=2.21.0->tensorboard) (2.10)\n",
            "Requirement already satisfied: chardet<4,>=3.0.2 in /usr/local/lib/python3.7/dist-packages (from requests<3,>=2.21.0->tensorboard) (3.0.4)\n",
            "Requirement already satisfied: urllib3!=1.25.0,!=1.25.1,<1.26,>=1.21.1 in /usr/local/lib/python3.7/dist-packages (from requests<3,>=2.21.0->tensorboard) (1.24.3)\n",
            "Requirement already satisfied: oauthlib>=3.0.0 in /usr/local/lib/python3.7/dist-packages (from requests-oauthlib>=0.7.0->google-auth-oauthlib<0.5,>=0.4.1->tensorboard) (3.1.1)\n",
            "Requirement already satisfied: kaggle in /usr/local/lib/python3.7/dist-packages (from opendatasets) (1.5.12)\n",
            "Requirement already satisfied: click in /usr/local/lib/python3.7/dist-packages (from opendatasets) (7.1.2)\n",
            "Requirement already satisfied: tqdm in /usr/local/lib/python3.7/dist-packages (from opendatasets) (4.41.1)\n",
            "Requirement already satisfied: gunicorn==20.1.0 in /usr/local/lib/python3.7/dist-packages (from aim) (20.1.0)\n",
            "Requirement already satisfied: Flask-Script==2.0.6 in /usr/local/lib/python3.7/dist-packages (from aim) (2.0.6)\n",
            "Requirement already satisfied: Flask-Cors==3.0.10 in /usr/local/lib/python3.7/dist-packages (from aim) (3.0.10)\n",
            "Requirement already satisfied: Flask-SQLAlchemy==2.5.1 in /usr/local/lib/python3.7/dist-packages (from aim) (2.5.1)\n",
            "Requirement already satisfied: GitPython>=3.0.4 in /usr/local/lib/python3.7/dist-packages (from aim) (3.1.18)\n",
            "Requirement already satisfied: docker>=4.1.0 in /usr/local/lib/python3.7/dist-packages (from aim) (5.0.0)\n",
            "Requirement already satisfied: SQLAlchemy==1.4.13 in /usr/local/lib/python3.7/dist-packages (from aim) (1.4.13)\n",
            "Requirement already satisfied: Flask-Migrate==2.7.0 in /usr/local/lib/python3.7/dist-packages (from aim) (2.7.0)\n",
            "Requirement already satisfied: alembic==1.6.0 in /usr/local/lib/python3.7/dist-packages (from aim) (1.6.0)\n",
            "Requirement already satisfied: pytz==2020.1 in /usr/local/lib/python3.7/dist-packages (from aim) (2020.1)\n",
            "Requirement already satisfied: pyrser>=0.2.0 in /usr/local/lib/python3.7/dist-packages (from aim) (0.2.0)\n",
            "Requirement already satisfied: Flask-RESTful==0.3.8 in /usr/local/lib/python3.7/dist-packages (from aim) (0.3.8)\n",
            "Requirement already satisfied: pysqlite3 in /usr/local/lib/python3.7/dist-packages (from aim) (0.4.6)\n",
            "Requirement already satisfied: psutil>=5.6.7 in /usr/local/lib/python3.7/dist-packages (from aim) (5.8.0)\n",
            "Requirement already satisfied: anytree>=2.8.0 in /usr/local/lib/python3.7/dist-packages (from aim) (2.8.0)\n",
            "Requirement already satisfied: py3nvml>=0.2.5 in /usr/local/lib/python3.7/dist-packages (from aim) (0.2.6)\n",
            "Requirement already satisfied: aimrecords==0.0.7 in /usr/local/lib/python3.7/dist-packages (from aim) (0.0.7)\n",
            "Requirement already satisfied: Flask==1.1.2 in /usr/local/lib/python3.7/dist-packages (from aim) (1.1.2)\n",
            "Requirement already satisfied: base58==2.0.1 in /usr/local/lib/python3.7/dist-packages (from aimrecords==0.0.7->aim) (2.0.1)\n",
            "Requirement already satisfied: python-dateutil in /usr/local/lib/python3.7/dist-packages (from alembic==1.6.0->aim) (2.8.1)\n",
            "Requirement already satisfied: Mako in /usr/local/lib/python3.7/dist-packages (from alembic==1.6.0->aim) (1.1.4)\n",
            "Requirement already satisfied: python-editor>=0.3 in /usr/local/lib/python3.7/dist-packages (from alembic==1.6.0->aim) (1.0.4)\n",
            "Requirement already satisfied: itsdangerous>=0.24 in /usr/local/lib/python3.7/dist-packages (from Flask==1.1.2->aim) (1.1.0)\n",
            "Requirement already satisfied: Jinja2>=2.10.1 in /usr/local/lib/python3.7/dist-packages (from Flask==1.1.2->aim) (2.11.3)\n",
            "Requirement already satisfied: aniso8601>=0.82 in /usr/local/lib/python3.7/dist-packages (from Flask-RESTful==0.3.8->aim) (9.0.1)\n",
            "Requirement already satisfied: greenlet!=0.4.17 in /usr/local/lib/python3.7/dist-packages (from SQLAlchemy==1.4.13->aim) (1.1.0)\n",
            "Requirement already satisfied: websocket-client>=0.32.0 in /usr/local/lib/python3.7/dist-packages (from docker>=4.1.0->aim) (1.1.1)\n",
            "Requirement already satisfied: gitdb<5,>=4.0.1 in /usr/local/lib/python3.7/dist-packages (from GitPython>=3.0.4->aim) (4.0.7)\n",
            "Requirement already satisfied: smmap<5,>=3.0.1 in /usr/local/lib/python3.7/dist-packages (from gitdb<5,>=4.0.1->GitPython>=3.0.4->aim) (4.0.0)\n",
            "Requirement already satisfied: MarkupSafe>=0.23 in /usr/local/lib/python3.7/dist-packages (from Jinja2>=2.10.1->Flask==1.1.2->aim) (2.0.1)\n",
            "Requirement already satisfied: xmltodict in /usr/local/lib/python3.7/dist-packages (from py3nvml>=0.2.5->aim) (0.12.0)\n",
            "Requirement already satisfied: zipp>=0.5 in /usr/local/lib/python3.7/dist-packages (from importlib-metadata->markdown>=2.6.8->tensorboard) (3.5.0)\n",
            "Requirement already satisfied: python-slugify in /usr/local/lib/python3.7/dist-packages (from kaggle->opendatasets) (5.0.2)\n",
            "Requirement already satisfied: text-unidecode>=1.3 in /usr/local/lib/python3.7/dist-packages (from python-slugify->kaggle->opendatasets) (1.3)\n"
          ],
          "name": "stdout"
        }
      ]
    },
    {
      "cell_type": "code",
      "metadata": {
        "id": "LbcHVke0NIBr"
      },
      "source": [
        "# Import dependencies\n",
        "import numpy as np\n",
        "import pandas as pd\n",
        "import matplotlib.pyplot as plt\n",
        "from datetime import datetime as dt\n",
        "\n",
        "import torch\n",
        "from torch import optim, nn\n",
        "from torch.utils.data import DataLoader, TensorDataset, Dataset\n",
        "from torchvision.utils import make_grid\n",
        "from torchvision import models, datasets\n",
        "from torchvision import transforms as T\n",
        "from ignite.engine import Events, create_supervised_trainer, create_supervised_evaluator\n",
        "from ignite.metrics import Accuracy, Loss\n",
        "\n",
        "import opendatasets as od\n",
        "import os\n",
        "from random import randint\n",
        "import urllib\n",
        "import zipfile\n",
        "\n",
        "from aim import Session\n",
        "from tensorboardX import SummaryWriter\n",
        "\n",
        "# Define device to use (CPU or GPU). CUDA = GPU support for PyTorch\n",
        "use_cuda = torch.cuda.is_available()\n",
        "device = torch.device(\"cuda\" if use_cuda else \"cpu\")"
      ],
      "execution_count": 62,
      "outputs": []
    },
    {
      "cell_type": "markdown",
      "metadata": {
        "id": "n9lOSRgANIBt"
      },
      "source": [
        "### Import Datasets"
      ]
    },
    {
      "cell_type": "markdown",
      "metadata": {
        "id": "xJYsrfVKNIBu"
      },
      "source": [
        "#### Method 1 - Kaggle (Local download)"
      ]
    },
    {
      "cell_type": "code",
      "metadata": {
        "id": "NgIA3WwoNIBu"
      },
      "source": [
        "# od.download(\"https://www.kaggle.com/akash2sharma/tiny-imagenet\")"
      ],
      "execution_count": null,
      "outputs": []
    },
    {
      "cell_type": "markdown",
      "metadata": {
        "id": "UUqCp76RNIBv"
      },
      "source": [
        "#### Method 2 - Direct download (Google Colab)"
      ]
    },
    {
      "cell_type": "code",
      "metadata": {
        "colab": {
          "base_uri": "https://localhost:8080/"
        },
        "id": "OPbeHop5NIBx",
        "outputId": "c41858c5-7a8e-4f38-bb7a-eaa1ed146de5"
      },
      "source": [
        "from google.colab import drive\n",
        "drive.mount('/content/drive', force_remount=True)"
      ],
      "execution_count": 3,
      "outputs": [
        {
          "output_type": "stream",
          "text": [
            "Mounted at /content/drive\n"
          ],
          "name": "stdout"
        }
      ]
    },
    {
      "cell_type": "code",
      "metadata": {
        "colab": {
          "base_uri": "https://localhost:8080/"
        },
        "id": "aFLB8yn7NIBy",
        "outputId": "9e8d4be6-abef-4683-c00f-e3645202f924"
      },
      "source": [
        "# Retrieve data directly\n",
        "!wget http://cs231n.stanford.edu/tiny-imagenet-200.zip\n",
        "!unzip -qq 'tiny-imagenet-200.zip'"
      ],
      "execution_count": 5,
      "outputs": [
        {
          "output_type": "stream",
          "text": [
            "--2021-08-09 05:33:43--  http://cs231n.stanford.edu/tiny-imagenet-200.zip\n",
            "Resolving cs231n.stanford.edu (cs231n.stanford.edu)... 171.64.68.10\n",
            "Connecting to cs231n.stanford.edu (cs231n.stanford.edu)|171.64.68.10|:80... connected.\n",
            "HTTP request sent, awaiting response... 200 OK\n",
            "Length: 248100043 (237M) [application/zip]\n",
            "Saving to: ‘tiny-imagenet-200.zip’\n",
            "\n",
            "tiny-imagenet-200.z 100%[===================>] 236.61M  13.6MB/s    in 17s     \n",
            "\n",
            "2021-08-09 05:34:00 (13.8 MB/s) - ‘tiny-imagenet-200.zip’ saved [248100043/248100043]\n",
            "\n"
          ],
          "name": "stdout"
        }
      ]
    },
    {
      "cell_type": "markdown",
      "metadata": {
        "id": "ZQ1TtMAaNIB1"
      },
      "source": [
        "___"
      ]
    },
    {
      "cell_type": "code",
      "metadata": {
        "id": "MWA18luVNIB2"
      },
      "source": [
        "# Define directory paths\n",
        "setup = 'Colab' # Local or Colab\n",
        "\n",
        "if setup == 'Local':\n",
        "    DATA_DIR = 'tiny-imagenet/tiny-imagenet-200'\n",
        "else:\n",
        "    DATA_DIR = 'tiny-imagenet-200'\n",
        "\n",
        "TRAIN_DIR = os.path.join(DATA_DIR, 'train')\n",
        "VALID_DIR = os.path.join(DATA_DIR, 'val')"
      ],
      "execution_count": 8,
      "outputs": []
    },
    {
      "cell_type": "markdown",
      "metadata": {
        "id": "fYX19pPCNIB3"
      },
      "source": [
        "Original images come in shape of [3,64,64]"
      ]
    },
    {
      "cell_type": "markdown",
      "metadata": {
        "id": "UolaaMxCNIB4"
      },
      "source": [
        "___\n",
        "### 2. Setup helper functions"
      ]
    },
    {
      "cell_type": "code",
      "metadata": {
        "id": "bx95MSSPNIB4"
      },
      "source": [
        "# Functions to display single or a batch of sample images\n",
        "def imshow(img):\n",
        "    npimg = img.numpy()\n",
        "    plt.imshow(np.transpose(npimg, (1, 2, 0)))\n",
        "    plt.show()\n",
        "    \n",
        "    \n",
        "def show_batch(dataloader):\n",
        "    dataiter = iter(dataloader)\n",
        "    images, labels = dataiter.next()    \n",
        "    imshow(make_grid(images)) # Using Torchvision.utils make_grid function\n",
        "    \n",
        "    \n",
        "def show_image(dataloader):\n",
        "    dataiter = iter(dataloader)\n",
        "    images, labels = dataiter.next()\n",
        "    random_num = randint(0, len(images)-1)\n",
        "    imshow(images[random_num])\n",
        "    label = labels[random_num]\n",
        "    print(f'Label: {label}, Shape: {images[random_num].shape}')"
      ],
      "execution_count": 9,
      "outputs": []
    },
    {
      "cell_type": "code",
      "metadata": {
        "id": "RqvnRrNANIB5"
      },
      "source": [
        "def generate_dataloader(data, name, transform):\n",
        "    if data is None: \n",
        "        return None\n",
        "    \n",
        "    # Read image files to pytorch dataset with ImageFolder, a generic data \n",
        "    # loader where images are in format root/label/filename\n",
        "    # See https://pytorch.org/vision/stable/datasets.html\n",
        "    if transform is None:\n",
        "        dataset = datasets.ImageFolder(data, transform=T.ToTensor())\n",
        "    else:\n",
        "        dataset = datasets.ImageFolder(data, transform=transform)\n",
        "\n",
        "    # Set options for device\n",
        "    if use_cuda:\n",
        "        kwargs = {\"pin_memory\": True, \"num_workers\": 1}\n",
        "    else:\n",
        "        kwargs = {}\n",
        "    \n",
        "    # Wrap image dataset (defined above) in dataloader \n",
        "    dataloader = DataLoader(dataset, batch_size=batch_size, \n",
        "                        shuffle=(name==\"train\"), \n",
        "                        **kwargs)\n",
        "    \n",
        "    return dataloader"
      ],
      "execution_count": 10,
      "outputs": []
    },
    {
      "cell_type": "markdown",
      "metadata": {
        "id": "scFiZKawNIB5"
      },
      "source": [
        "___\n",
        "### Define Image Pre-processing Transformations\n",
        "PyTorch transforms define image transformations that convert all images in dataset into a standardized format."
      ]
    },
    {
      "cell_type": "code",
      "metadata": {
        "id": "SBzYmEneNIB6"
      },
      "source": [
        "# Define transformation sequence for image pre-processing\n",
        "# If not using pre-trained model, normalize with 0.5, 0.5, 0.5 (mean and SD)\n",
        "# If using pre-trained Imagenet, normalize with mean=[0.485, 0.456, 0.406], \n",
        "# std=[0.229, 0.224, 0.225])\n",
        "\n",
        "preprocess_transform = T.Compose([\n",
        "#                 T.Resize(256), # Resize images to 256 x 256\n",
        "#                 T.CenterCrop(224), # Center crop image\n",
        "                T.RandomResizedCrop(58),\n",
        "                T.RandomHorizontalFlip(),\n",
        "                T.ToTensor(),  # Converting cropped images to tensors\n",
        "                T.Normalize([0.5, 0.5, 0.5], [0.5, 0.5, 0.5]) # \n",
        "])"
      ],
      "execution_count": 11,
      "outputs": []
    },
    {
      "cell_type": "markdown",
      "metadata": {
        "id": "D6I0fvFYNIB6"
      },
      "source": [
        "___\n",
        "### Create dataloaders"
      ]
    },
    {
      "cell_type": "markdown",
      "metadata": {
        "id": "hattC_goNIB7"
      },
      "source": [
        "#### Training set dataloader"
      ]
    },
    {
      "cell_type": "code",
      "metadata": {
        "id": "wTUmhMofkZLb"
      },
      "source": [
        "# Define batch size for data loaders\n",
        "batch_size = 64"
      ],
      "execution_count": null,
      "outputs": []
    },
    {
      "cell_type": "code",
      "metadata": {
        "id": "cSXJHRYiNIB7"
      },
      "source": [
        "# train_loader = generate_dataloader(TRAIN_DIR, \"train\",\n",
        "#                                   transform=None) # No transformations\n",
        "\n",
        "# # Display batch of UNprocessed images from train set\n",
        "# show_batch(train_loader)"
      ],
      "execution_count": null,
      "outputs": []
    },
    {
      "cell_type": "code",
      "metadata": {
        "colab": {
          "base_uri": "https://localhost:8080/",
          "height": 286
        },
        "id": "X9C5uPTfNIB8",
        "outputId": "19795228-7ade-43a3-8be4-7af35f8208cf"
      },
      "source": [
        "train_loader = generate_dataloader(TRAIN_DIR, \"train\",\n",
        "                                  transform=preprocess_transform)\n",
        "\n",
        "# Display batch of processed images\n",
        "show_batch(train_loader)"
      ],
      "execution_count": 13,
      "outputs": [
        {
          "output_type": "stream",
          "text": [
            "Clipping input data to the valid range for imshow with RGB data ([0..1] for floats or [0..255] for integers).\n"
          ],
          "name": "stderr"
        },
        {
          "output_type": "display_data",
          "data": {
            "image/png": "[encoded data removed]",
            "text/plain": [
              "<Figure size 432x288 with 1 Axes>"
            ]
          },
          "metadata": {
            "tags": [],
            "needs_background": "light"
          }
        }
      ]
    },
    {
      "cell_type": "code",
      "metadata": {
        "colab": {
          "base_uri": "https://localhost:8080/",
          "height": 302
        },
        "id": "IvIh3tk6NIB8",
        "outputId": "09187e74-c6e5-4914-8e0b-db8e27a4bc5b"
      },
      "source": [
        "# Display single random image from train dataset\n",
        "show_image(train_loader)"
      ],
      "execution_count": 14,
      "outputs": [
        {
          "output_type": "stream",
          "text": [
            "Clipping input data to the valid range for imshow with RGB data ([0..1] for floats or [0..255] for integers).\n"
          ],
          "name": "stderr"
        },
        {
          "output_type": "display_data",
          "data": {
            "image/png": "[encoded data removed]",
            "text/plain": [
              "<Figure size 432x288 with 1 Axes>"
            ]
          },
          "metadata": {
            "tags": [],
            "needs_background": "light"
          }
        },
        {
          "output_type": "stream",
          "text": [
            "Label: 19, Shape: torch.Size([3, 58, 58])\n"
          ],
          "name": "stdout"
        }
      ]
    },
    {
      "cell_type": "markdown",
      "metadata": {
        "id": "9xMYPGbcNIB8"
      },
      "source": [
        "#### Validation set dataloader"
      ]
    },
    {
      "cell_type": "code",
      "metadata": {
        "colab": {
          "base_uri": "https://localhost:8080/",
          "height": 203
        },
        "id": "rEN_sDzlNIB9",
        "outputId": "3d28d959-b8f7-46d4-dbfe-172eabb6e97f"
      },
      "source": [
        "# Unlike the training folder where the images are already arranged in \n",
        "# sub folders based on their labels, the images in the validation folder \n",
        "# are all collated in a single folder. The validation folder comes with \n",
        "# images folder and val_annotations txt file. The val_annotation txt file \n",
        "# comprises 6 tab separated columns of filename, class label, x and y \n",
        "# coordinates and height, width of bounding box\n",
        "val_data = pd.read_csv(f'{VALID_DIR}/val_annotations.txt', \n",
        "                       sep='\\t', \n",
        "                       header=None, \n",
        "                       names=['File', 'Class', 'X', 'Y', 'H', 'W'])\n",
        "\n",
        "val_data.head()"
      ],
      "execution_count": 15,
      "outputs": [
        {
          "output_type": "execute_result",
          "data": {
            "text/html": [
              "<div>\n",
              "<style scoped>\n",
              "    .dataframe tbody tr th:only-of-type {\n",
              "        vertical-align: middle;\n",
              "    }\n",
              "\n",
              "    .dataframe tbody tr th {\n",
              "        vertical-align: top;\n",
              "    }\n",
              "\n",
              "    .dataframe thead th {\n",
              "        text-align: right;\n",
              "    }\n",
              "</style>\n",
              "<table border=\"1\" class=\"dataframe\">\n",
              "  <thead>\n",
              "    <tr style=\"text-align: right;\">\n",
              "      <th></th>\n",
              "      <th>File</th>\n",
              "      <th>Class</th>\n",
              "      <th>X</th>\n",
              "      <th>Y</th>\n",
              "      <th>H</th>\n",
              "      <th>W</th>\n",
              "    </tr>\n",
              "  </thead>\n",
              "  <tbody>\n",
              "    <tr>\n",
              "      <th>0</th>\n",
              "      <td>val_0.JPEG</td>\n",
              "      <td>n03444034</td>\n",
              "      <td>0</td>\n",
              "      <td>32</td>\n",
              "      <td>44</td>\n",
              "      <td>62</td>\n",
              "    </tr>\n",
              "    <tr>\n",
              "      <th>1</th>\n",
              "      <td>val_1.JPEG</td>\n",
              "      <td>n04067472</td>\n",
              "      <td>52</td>\n",
              "      <td>55</td>\n",
              "      <td>57</td>\n",
              "      <td>59</td>\n",
              "    </tr>\n",
              "    <tr>\n",
              "      <th>2</th>\n",
              "      <td>val_2.JPEG</td>\n",
              "      <td>n04070727</td>\n",
              "      <td>4</td>\n",
              "      <td>0</td>\n",
              "      <td>60</td>\n",
              "      <td>55</td>\n",
              "    </tr>\n",
              "    <tr>\n",
              "      <th>3</th>\n",
              "      <td>val_3.JPEG</td>\n",
              "      <td>n02808440</td>\n",
              "      <td>3</td>\n",
              "      <td>3</td>\n",
              "      <td>63</td>\n",
              "      <td>63</td>\n",
              "    </tr>\n",
              "    <tr>\n",
              "      <th>4</th>\n",
              "      <td>val_4.JPEG</td>\n",
              "      <td>n02808440</td>\n",
              "      <td>9</td>\n",
              "      <td>27</td>\n",
              "      <td>63</td>\n",
              "      <td>48</td>\n",
              "    </tr>\n",
              "  </tbody>\n",
              "</table>\n",
              "</div>"
            ],
            "text/plain": [
              "         File      Class   X   Y   H   W\n",
              "0  val_0.JPEG  n03444034   0  32  44  62\n",
              "1  val_1.JPEG  n04067472  52  55  57  59\n",
              "2  val_2.JPEG  n04070727   4   0  60  55\n",
              "3  val_3.JPEG  n02808440   3   3  63  63\n",
              "4  val_4.JPEG  n02808440   9  27  63  48"
            ]
          },
          "metadata": {
            "tags": []
          },
          "execution_count": 15
        }
      ]
    },
    {
      "cell_type": "code",
      "metadata": {
        "colab": {
          "base_uri": "https://localhost:8080/"
        },
        "id": "Cm1uk1o6NIB9",
        "outputId": "60fe8031-2125-4a5a-d276-1457608761cc"
      },
      "source": [
        "# Create separate validation subfolders for the validation images based on\n",
        "# their labels indicated in the val_annotations txt file\n",
        "val_img_dir = os.path.join(VALID_DIR, 'images')\n",
        "\n",
        "# Open and read val annotations text file\n",
        "fp = open(os.path.join(VALID_DIR, 'val_annotations.txt'), 'r')\n",
        "data = fp.readlines()\n",
        "\n",
        "# Create dictionary to store img filename (word 0) and corresponding\n",
        "# label (word 1) for every line in the txt file (as key value pair)\n",
        "val_img_dict = {}\n",
        "for line in data:\n",
        "    words = line.split('\\t')\n",
        "    val_img_dict[words[0]] = words[1]\n",
        "fp.close()\n",
        "\n",
        "# Display first 10 entries of resulting val_img_dict dictionary\n",
        "{k: val_img_dict[k] for k in list(val_img_dict)[:10]}"
      ],
      "execution_count": 16,
      "outputs": [
        {
          "output_type": "execute_result",
          "data": {
            "text/plain": [
              "{'val_0.JPEG': 'n03444034',\n",
              " 'val_1.JPEG': 'n04067472',\n",
              " 'val_2.JPEG': 'n04070727',\n",
              " 'val_3.JPEG': 'n02808440',\n",
              " 'val_4.JPEG': 'n02808440',\n",
              " 'val_5.JPEG': 'n04399382',\n",
              " 'val_6.JPEG': 'n04179913',\n",
              " 'val_7.JPEG': 'n02823428',\n",
              " 'val_8.JPEG': 'n04146614',\n",
              " 'val_9.JPEG': 'n02226429'}"
            ]
          },
          "metadata": {
            "tags": []
          },
          "execution_count": 16
        }
      ]
    },
    {
      "cell_type": "code",
      "metadata": {
        "id": "9kjLMGxyNIB-"
      },
      "source": [
        "# Create subfolders (if not present) for validation images based on label ,\n",
        "# and move images into the respective folders\n",
        "for img, folder in val_img_dict.items():\n",
        "    newpath = (os.path.join(val_img_dir, folder))\n",
        "    if not os.path.exists(newpath):\n",
        "        os.makedirs(newpath)\n",
        "    if os.path.exists(os.path.join(val_img_dir, img)):\n",
        "        os.rename(os.path.join(val_img_dir, img), os.path.join(newpath, img))"
      ],
      "execution_count": 17,
      "outputs": []
    },
    {
      "cell_type": "code",
      "metadata": {
        "colab": {
          "base_uri": "https://localhost:8080/"
        },
        "id": "1vzcZx_vNIB-",
        "outputId": "66c5e122-5b14-4916-e2ae-a74c14f2f01a"
      },
      "source": [
        "# Save class names (for corresponding labels) as dict from words.txt file\n",
        "class_to_name_dict = dict()\n",
        "fp = open(os.path.join(DATA_DIR, 'words.txt'), 'r')\n",
        "data = fp.readlines()\n",
        "for line in data:\n",
        "    words = line.strip('\\n').split('\\t')\n",
        "    class_to_name_dict[words[0]] = words[1].split(',')[0]\n",
        "fp.close()\n",
        "\n",
        "# Display first 20 entries of resulting dictionary\n",
        "{k: class_to_name_dict[k] for k in list(class_to_name_dict)[:20]}"
      ],
      "execution_count": 18,
      "outputs": [
        {
          "output_type": "execute_result",
          "data": {
            "text/plain": [
              "{'n00001740': 'entity',\n",
              " 'n00001930': 'physical entity',\n",
              " 'n00002137': 'abstraction',\n",
              " 'n00002452': 'thing',\n",
              " 'n00002684': 'object',\n",
              " 'n00003553': 'whole',\n",
              " 'n00003993': 'congener',\n",
              " 'n00004258': 'living thing',\n",
              " 'n00004475': 'organism',\n",
              " 'n00005787': 'benthos',\n",
              " 'n00005930': 'dwarf',\n",
              " 'n00006024': 'heterotroph',\n",
              " 'n00006150': 'parent',\n",
              " 'n00006269': 'life',\n",
              " 'n00006400': 'biont',\n",
              " 'n00006484': 'cell',\n",
              " 'n00007347': 'causal agent',\n",
              " 'n00007846': 'person',\n",
              " 'n00015388': 'animal',\n",
              " 'n00017222': 'plant'}"
            ]
          },
          "metadata": {
            "tags": []
          },
          "execution_count": 18
        }
      ]
    },
    {
      "cell_type": "code",
      "metadata": {
        "colab": {
          "base_uri": "https://localhost:8080/",
          "height": 286
        },
        "id": "gTTQnNeRNIB-",
        "outputId": "9d2521eb-73ba-46ee-9b1a-24c75f503351"
      },
      "source": [
        "val_loader = generate_dataloader(val_img_dir, \"val\",\n",
        "                                 transform=preprocess_transform)\n",
        "\n",
        "# Display batch of processed images\n",
        "show_batch(val_loader)"
      ],
      "execution_count": 19,
      "outputs": [
        {
          "output_type": "stream",
          "text": [
            "Clipping input data to the valid range for imshow with RGB data ([0..1] for floats or [0..255] for integers).\n"
          ],
          "name": "stderr"
        },
        {
          "output_type": "display_data",
          "data": {
            "image/png": "[encoded data removed]",
            "text/plain": [
              "<Figure size 432x288 with 1 Axes>"
            ]
          },
          "metadata": {
            "tags": [],
            "needs_background": "light"
          }
        }
      ]
    },
    {
      "cell_type": "markdown",
      "metadata": {
        "id": "27hcIKfph7BL"
      },
      "source": [
        "### Define hyperparameters and default values"
      ]
    },
    {
      "cell_type": "code",
      "metadata": {
        "id": "c0-xxV9Ah_D5"
      },
      "source": [
        "lr = 0.001  # Learning rate\n",
        "batch_size = 64  # Images per batch\n",
        "num_epochs = 10  # Number of epochs\n",
        "\n",
        "# Set up logging\n",
        "aim_session = Session()\n",
        "aim_session.set_params({\"lr\": lr, \"batch_size\": batch_size, \n",
        "                        \"num_epochs\": num_epochs}, name=\"hparams\")\n",
        "print_every = 250  # Number of batches\n",
        "\n",
        "# Number of output classes\n",
        "num_classes = 200"
      ],
      "execution_count": 55,
      "outputs": []
    },
    {
      "cell_type": "markdown",
      "metadata": {
        "id": "2cwC_B5INIB_"
      },
      "source": [
        "___\n",
        "### Setup and train model\n",
        "- Making use of PyTorch-Ignite, a high-level library to help with training and evaluating neural networks in PyTorch flexibly and transparently."
      ]
    },
    {
      "cell_type": "markdown",
      "metadata": {
        "id": "0p12NAZtkpeu"
      },
      "source": [
        "#### ResNet-18"
      ]
    },
    {
      "cell_type": "code",
      "metadata": {
        "id": "vMPCoGOONIB_"
      },
      "source": [
        "# Define model architecture (ResNet)\n",
        "model = models.resnet18(pretrained=False)\n",
        "\n",
        "# Define fully connected layer for ResNet\n",
        "model.fc = torch.nn.Linear(in_features=model.fc.in_features, \n",
        "                           out_features=num_classes, \n",
        "                           bias=True)\n",
        "model = model.to(device)\n",
        "\n",
        "# Set loss function (Categorical Cross Entropy Loss)\n",
        "loss_func = nn.CrossEntropyLoss()\n",
        "\n",
        "# Set optimizer\n",
        "optimizer = optim.Adam(model.parameters(), lr=lr)"
      ],
      "execution_count": 30,
      "outputs": []
    },
    {
      "cell_type": "code",
      "metadata": {
        "colab": {
          "base_uri": "https://localhost:8080/"
        },
        "id": "JULBGhDDNIB_",
        "outputId": "98d2cd68-8cab-464a-b27d-7c88db6e780c"
      },
      "source": [
        "# Setup pytorch-ignite trainer\n",
        "trainer = create_supervised_trainer(\n",
        "    model,\n",
        "    optimizer,\n",
        "    loss_func,\n",
        "    device=device,\n",
        ")\n",
        "\n",
        "# Define metrics\n",
        "metrics = {\n",
        "    \"accuracy\": Accuracy(),\n",
        "    \"loss\": Loss(loss_func),\n",
        "}\n",
        "\n",
        "# Setup pytorch-ignite evaluator\n",
        "evaluator = create_supervised_evaluator(\n",
        "                model, metrics=metrics, device=device\n",
        ")\n",
        "\n",
        "@trainer.on(Events.ITERATION_COMPLETED(every=print_every))\n",
        "def log_batch(trainer):\n",
        "    batch = (trainer.state.iteration - 1) % trainer.state.epoch_length + 1\n",
        "    print(\n",
        "        f\"Epoch {trainer.state.epoch} / {num_epochs}, \"\n",
        "        f\"batch {batch} / {trainer.state.epoch_length}: \"\n",
        "        f\"loss: {trainer.state.output:.3f}\"\n",
        "    )\n",
        "\n",
        "@trainer.on(Events.EPOCH_COMPLETED)\n",
        "def log_epoch(trainer):\n",
        "    print(f\"Epoch {trainer.state.epoch} / {num_epochs} average results: \")\n",
        "\n",
        "    def log_results(name, metrics, epoch):\n",
        "        print(\n",
        "            f\"{name + ':':6} loss: {metrics['loss']:.3f}, \"\n",
        "            f\"accuracy: {metrics['accuracy']:.3f}\"\n",
        "        )\n",
        "\n",
        "    # evaluate train data\n",
        "    evaluator.run(train_loader)\n",
        "    log_results(\"train\", evaluator.state.metrics, trainer.state.epoch)\n",
        "\n",
        "    # evaluate validation data\n",
        "    if val_loader:\n",
        "        evaluator.run(val_loader)\n",
        "        log_results(\"val\", evaluator.state.metrics, trainer.state.epoch)\n",
        "\n",
        "    # evaluate test data\n",
        "    # if test_loader:\n",
        "    #     evaluator.run(test_loader)\n",
        "    #     log_results(\"test\", evaluator.state.metrics, trainer.state.epoch)\n",
        "\n",
        "    print()\n",
        "    print(\"-\" * 80)\n",
        "    print()\n",
        "\n",
        "# Start training.\n",
        "trainer.run(train_loader, max_epochs=num_epochs)"
      ],
      "execution_count": 43,
      "outputs": [
        {
          "output_type": "stream",
          "text": [
            "Epoch 1 / 5, batch 500 / 1563: loss: 4.307\n",
            "Epoch 1 / 5, batch 1000 / 1563: loss: 4.496\n",
            "Epoch 1 / 5, batch 1500 / 1563: loss: 4.010\n",
            "Epoch 1 / 5 average results: \n",
            "train: loss: 3.980, accuracy: 0.144\n",
            "val:   loss: 4.021, accuracy: 0.139\n",
            "\n",
            "--------------------------------------------------------------------------------\n",
            "\n",
            "Epoch 2 / 5, batch 437 / 1563: loss: 3.581\n",
            "Epoch 2 / 5, batch 937 / 1563: loss: 3.408\n",
            "Epoch 2 / 5, batch 1437 / 1563: loss: 3.613\n",
            "Epoch 2 / 5 average results: \n",
            "train: loss: 3.698, accuracy: 0.189\n",
            "val:   loss: 3.812, accuracy: 0.165\n",
            "\n",
            "--------------------------------------------------------------------------------\n",
            "\n",
            "Epoch 3 / 5, batch 374 / 1563: loss: 3.598\n",
            "Epoch 3 / 5, batch 874 / 1563: loss: 3.454\n",
            "Epoch 3 / 5, batch 1374 / 1563: loss: 3.641\n",
            "Epoch 3 / 5 average results: \n",
            "train: loss: 3.507, accuracy: 0.224\n",
            "val:   loss: 3.627, accuracy: 0.206\n",
            "\n",
            "--------------------------------------------------------------------------------\n",
            "\n",
            "Epoch 4 / 5, batch 311 / 1563: loss: 3.644\n",
            "Epoch 4 / 5, batch 811 / 1563: loss: 3.642\n",
            "Epoch 4 / 5, batch 1311 / 1563: loss: 3.572\n",
            "Epoch 4 / 5 average results: \n",
            "train: loss: 3.268, accuracy: 0.262\n",
            "val:   loss: 3.391, accuracy: 0.251\n",
            "\n",
            "--------------------------------------------------------------------------------\n",
            "\n",
            "Epoch 5 / 5, batch 248 / 1563: loss: 3.109\n",
            "Epoch 5 / 5, batch 748 / 1563: loss: 3.468\n",
            "Epoch 5 / 5, batch 1248 / 1563: loss: 3.493\n",
            "Epoch 5 / 5 average results: \n",
            "train: loss: 3.186, accuracy: 0.276\n",
            "val:   loss: 3.328, accuracy: 0.255\n",
            "\n",
            "--------------------------------------------------------------------------------\n",
            "\n"
          ],
          "name": "stdout"
        },
        {
          "output_type": "execute_result",
          "data": {
            "text/plain": [
              "State:\n",
              "\titeration: 7815\n",
              "\tepoch: 5\n",
              "\tepoch_length: 1563\n",
              "\tmax_epochs: 5\n",
              "\toutput: 3.450308322906494\n",
              "\tbatch: <class 'list'>\n",
              "\tmetrics: <class 'dict'>\n",
              "\tdataloader: <class 'torch.utils.data.dataloader.DataLoader'>\n",
              "\tseed: <class 'NoneType'>\n",
              "\ttimes: <class 'dict'>"
            ]
          },
          "metadata": {
            "tags": []
          },
          "execution_count": 43
        }
      ]
    },
    {
      "cell_type": "code",
      "metadata": {
        "id": "8x8Zz49XAfkh"
      },
      "source": [
        "evaluator.state.metrics"
      ],
      "execution_count": null,
      "outputs": []
    },
    {
      "cell_type": "markdown",
      "metadata": {
        "id": "dvuNSKfWuQ5t"
      },
      "source": [
        "___\n",
        "#### DenseNet-121"
      ]
    },
    {
      "cell_type": "code",
      "metadata": {
        "id": "FUQNuso3NICA"
      },
      "source": [
        "# Define model architecture (DenseNet)\n",
        "model = models.densenet121(pretrained=False)\n",
        "\n",
        "model.classifier = torch.nn.Linear(in_features=model.classifier.in_features, \n",
        "                                   out_features=num_classes, bias=True)\n",
        "\n",
        "model = model.to(device)\n",
        "\n",
        "# Set loss function (Categorical Cross Entropy Loss)\n",
        "loss_func = nn.CrossEntropyLoss()\n",
        "\n",
        "# Set optimizer\n",
        "optimizer = optim.Adam(model.parameters(), lr=lr)"
      ],
      "execution_count": 44,
      "outputs": []
    },
    {
      "cell_type": "code",
      "metadata": {
        "colab": {
          "base_uri": "https://localhost:8080/"
        },
        "id": "329WNtGXtfXY",
        "outputId": "32b4f649-6c2a-417c-f638-8bdae6bdbf63"
      },
      "source": [
        "# Set up pytorch-ignite trainer\n",
        "trainer = create_supervised_trainer(\n",
        "    model,\n",
        "    optimizer,\n",
        "    loss_func,\n",
        "    device=device,\n",
        ")\n",
        "metrics = {\n",
        "    \"accuracy\": Accuracy(),\n",
        "    \"loss\": Loss(loss_func),\n",
        "}\n",
        "\n",
        "# Set up pytorch-ignite evaluator\n",
        "evaluator = create_supervised_evaluator(\n",
        "    model, metrics=metrics, device=device\n",
        ")\n",
        "\n",
        "@trainer.on(Events.ITERATION_COMPLETED(every=print_every))\n",
        "def log_batch(trainer):\n",
        "    batch = (trainer.state.iteration - 1) % trainer.state.epoch_length + 1\n",
        "    print(\n",
        "        f\"Epoch {trainer.state.epoch} / {num_epochs}, \"\n",
        "        f\"batch {batch} / {trainer.state.epoch_length}: \"\n",
        "        f\"loss: {trainer.state.output:.3f}\"\n",
        "    )\n",
        "\n",
        "@trainer.on(Events.EPOCH_COMPLETED)\n",
        "def log_epoch(trainer):\n",
        "    print(f\"Epoch {trainer.state.epoch} / {num_epochs} average results: \")\n",
        "\n",
        "    def log_results(name, metrics, epoch):\n",
        "        print(\n",
        "            f\"{name + ':':6} loss: {metrics['loss']:.3f}, \"\n",
        "            f\"accuracy: {metrics['accuracy']:.3f}\"\n",
        "        )\n",
        "        aim_session.track(metrics[\"loss\"], name=\"loss\", subset=name, epoch=epoch)\n",
        "        aim_session.track(metrics[\"accuracy\"], name=\"accuracy\", subset=name, epoch=epoch)\n",
        "\n",
        "    # Train data.\n",
        "    evaluator.run(train_loader)\n",
        "    log_results(\"train\", evaluator.state.metrics, trainer.state.epoch)\n",
        "\n",
        "    # Val data.\n",
        "    if val_loader:\n",
        "        evaluator.run(val_loader)\n",
        "        log_results(\"val\", evaluator.state.metrics, trainer.state.epoch)\n",
        "\n",
        "    # Test data.\n",
        "    # if test_loader:\n",
        "    #     evaluator.run(test_loader)\n",
        "    #     log_results(\"test\", evaluator.state.metrics, trainer.state.epoch)\n",
        "\n",
        "    print()\n",
        "    print(\"-\" * 80)\n",
        "    print()\n",
        "\n",
        "# Start training.\n",
        "trainer.run(train_loader, max_epochs=num_epochs)"
      ],
      "execution_count": 46,
      "outputs": [
        {
          "output_type": "stream",
          "text": [
            "Epoch 1 / 5, batch 500 / 1563: loss: 4.706\n",
            "Epoch 1 / 5, batch 1000 / 1563: loss: 4.855\n",
            "Epoch 1 / 5, batch 1500 / 1563: loss: 4.454\n",
            "Epoch 1 / 5 average results: \n",
            "train: loss: 4.529, accuracy: 0.082\n",
            "val:   loss: 4.545, accuracy: 0.076\n",
            "\n",
            "--------------------------------------------------------------------------------\n",
            "\n",
            "Epoch 2 / 5, batch 437 / 1563: loss: 4.600\n",
            "Epoch 2 / 5, batch 937 / 1563: loss: 4.302\n",
            "Epoch 2 / 5, batch 1437 / 1563: loss: 4.043\n",
            "Epoch 2 / 5 average results: \n",
            "train: loss: 4.265, accuracy: 0.121\n",
            "val:   loss: 4.325, accuracy: 0.117\n",
            "\n",
            "--------------------------------------------------------------------------------\n",
            "\n",
            "Epoch 3 / 5, batch 374 / 1563: loss: 4.037\n",
            "Epoch 3 / 5, batch 874 / 1563: loss: 3.903\n",
            "Epoch 3 / 5, batch 1374 / 1563: loss: 3.711\n",
            "Epoch 3 / 5 average results: \n",
            "train: loss: 3.838, accuracy: 0.169\n",
            "val:   loss: 3.898, accuracy: 0.161\n",
            "\n",
            "--------------------------------------------------------------------------------\n",
            "\n",
            "Epoch 4 / 5, batch 311 / 1563: loss: 3.947\n",
            "Epoch 4 / 5, batch 811 / 1563: loss: 4.046\n",
            "Epoch 4 / 5, batch 1311 / 1563: loss: 3.905\n",
            "Epoch 4 / 5 average results: \n",
            "train: loss: 3.714, accuracy: 0.190\n",
            "val:   loss: 3.808, accuracy: 0.177\n",
            "\n",
            "--------------------------------------------------------------------------------\n",
            "\n",
            "Epoch 5 / 5, batch 248 / 1563: loss: 3.681\n",
            "Epoch 5 / 5, batch 748 / 1563: loss: 3.802\n",
            "Epoch 5 / 5, batch 1248 / 1563: loss: 4.090\n",
            "Epoch 5 / 5 average results: \n",
            "train: loss: 3.573, accuracy: 0.212\n",
            "val:   loss: 3.658, accuracy: 0.203\n",
            "\n",
            "--------------------------------------------------------------------------------\n",
            "\n"
          ],
          "name": "stdout"
        },
        {
          "output_type": "execute_result",
          "data": {
            "text/plain": [
              "State:\n",
              "\titeration: 7815\n",
              "\tepoch: 5\n",
              "\tepoch_length: 1563\n",
              "\tmax_epochs: 5\n",
              "\toutput: 3.8519527912139893\n",
              "\tbatch: <class 'list'>\n",
              "\tmetrics: <class 'dict'>\n",
              "\tdataloader: <class 'torch.utils.data.dataloader.DataLoader'>\n",
              "\tseed: <class 'NoneType'>\n",
              "\ttimes: <class 'dict'>"
            ]
          },
          "metadata": {
            "tags": []
          },
          "execution_count": 46
        }
      ]
    },
    {
      "cell_type": "code",
      "metadata": {
        "colab": {
          "base_uri": "https://localhost:8080/"
        },
        "id": "2O2Nsgmu-i8g",
        "outputId": "1b77ebe2-0426-4d7b-8f5e-3f8434006776"
      },
      "source": [
        "!aim up"
      ],
      "execution_count": 47,
      "outputs": [
        {
          "output_type": "stream",
          "text": [
            "┌--------------------------------------------------------┐\n",
            "        Aim UI collects anonymous usage analytics.        \n",
            "                Read how to opt-out here:                 \n",
            "   https://github.com/aimhubio/aim#anonymized-telemetry   \n",
            "└--------------------------------------------------------┘\n",
            "\u001b[33mRunning Aim UI on repo `/content/.aim`\u001b[0m\n",
            "Open http://127.0.0.1:43800\n",
            "Press Ctrl+C to exit\n",
            "\n",
            "Aborted!\n"
          ],
          "name": "stdout"
        }
      ]
    },
    {
      "cell_type": "code",
      "metadata": {
        "colab": {
          "base_uri": "https://localhost:8080/"
        },
        "id": "v-Xd8v90_hHQ",
        "outputId": "9dc6d127-8bf8-4095-9edc-c2743641dc38"
      },
      "source": [
        "evaluator.state.metrics"
      ],
      "execution_count": 51,
      "outputs": [
        {
          "output_type": "execute_result",
          "data": {
            "text/plain": [
              "{'accuracy': 0.2035, 'loss': 3.65790390625}"
            ]
          },
          "metadata": {
            "tags": []
          },
          "execution_count": 51
        }
      ]
    },
    {
      "cell_type": "markdown",
      "metadata": {
        "id": "wBJx0Xto-n7w"
      },
      "source": [
        "___\n",
        "#### AlexNet"
      ]
    },
    {
      "cell_type": "code",
      "metadata": {
        "id": "ZHp4cw5NtfKJ"
      },
      "source": [
        "model = models.alexnet(pretrained=False)\n",
        "\n",
        "model.classifier[-1] = torch.nn.Linear(in_features=model.classifier[-1].in_features, out_features=num_classes, bias=True)\n",
        "model = model.to(device)\n",
        "\n",
        "loss_func = nn.CrossEntropyLoss()\n",
        "\n",
        "# Set optimizer\n",
        "# optimizer = optim.Adam(model.parameters(), lr=lr)\n",
        "optimizer = optim.SGD(model.parameters(), lr=lr, momentum=0.9)\n",
        "\n",
        "# Setup logging\n",
        "experiment_id = dt.now().strftime('%Y-%m-%d_%H-%M-%S')\n",
        "writer = SummaryWriter(logdir=f\"logs/{experiment_id}\")"
      ],
      "execution_count": 63,
      "outputs": []
    },
    {
      "cell_type": "code",
      "metadata": {
        "colab": {
          "base_uri": "https://localhost:8080/",
          "height": 384
        },
        "id": "r1Bi9SJw_Phv",
        "outputId": "b17e0a8f-ba05-4de8-9361-7a8b7186f7a4"
      },
      "source": [
        "trainer = create_supervised_trainer(\n",
        "        model,\n",
        "        optimizer,\n",
        "        loss_func,\n",
        "        device=device,\n",
        ")\n",
        "metrics = {\n",
        "    \"accuracy\": Accuracy(),\n",
        "    \"loss\": Loss(loss_func),\n",
        "}\n",
        "evaluator = create_supervised_evaluator(\n",
        "    model, metrics=metrics, device=device\n",
        ")\n",
        "\n",
        "@trainer.on(Events.ITERATION_COMPLETED(every=print_every))\n",
        "def log_batch(trainer):\n",
        "    batch = (trainer.state.iteration - 1) % trainer.state.epoch_length + 1\n",
        "    print(\n",
        "        f\"Epoch {trainer.state.epoch} / {num_epochs}, \"\n",
        "        f\"batch {batch} / {trainer.state.epoch_length}: \"\n",
        "        f\"loss: {trainer.state.output:.3f}\"\n",
        "    )\n",
        "\n",
        "@trainer.on(Events.EPOCH_COMPLETED)\n",
        "def log_epoch(trainer):\n",
        "    print(f\"Epoch {trainer.state.epoch} / {num_epochs} average results: \")\n",
        "\n",
        "    def log_results(name, metrics, epoch):\n",
        "        print(\n",
        "            f\"{name + ':':6} loss: {metrics['loss']:.3f}, \"\n",
        "            f\"accuracy: {metrics['accuracy']:.3f}\"\n",
        "        )\n",
        "        writer.add_scalar(f\"{name}_loss\", metrics[\"loss\"], epoch)\n",
        "        writer.add_scalar(f\"{name}_accuracy\", metrics[\"accuracy\"], epoch)\n",
        "\n",
        "    # Train data.\n",
        "    evaluator.run(train_loader)\n",
        "    log_results(\"train\", evaluator.state.metrics, trainer.state.epoch)\n",
        "\n",
        "    # Val data.\n",
        "    if val_loader:\n",
        "        evaluator.run(val_loader)\n",
        "        log_results(\"val\", evaluator.state.metrics, trainer.state.epoch)\n",
        "\n",
        "    # Test data.\n",
        "    # if test_loader:\n",
        "    #     evaluator.run(test_loader)\n",
        "    #     log_results(\"test\", evaluator.state.metrics, trainer.state.epoch)\n",
        "\n",
        "    print()\n",
        "    print(\"-\" * 80)\n",
        "    print()\n",
        "\n",
        "# Start training.\n",
        "trainer.run(train_loader, max_epochs=num_epochs)"
      ],
      "execution_count": 64,
      "outputs": [
        {
          "output_type": "stream",
          "text": [
            "Current run is terminating due to exception: Given input size: (256x2x2). Calculated output size: (256x0x0). Output size is too small\n",
            "Engine run is terminating due to exception: Given input size: (256x2x2). Calculated output size: (256x0x0). Output size is too small\n"
          ],
          "name": "stderr"
        },
        {
          "output_type": "error",
          "ename": "RuntimeError",
          "evalue": "ignored",
          "traceback": [
            "\u001b[0;31m---------------------------------------------------------------------------\u001b[0m",
            "\u001b[0;31mRuntimeError\u001b[0m                              Traceback (most recent call last)",
            "\u001b[0;32m<ipython-input-64-f4b1cac9d361>\u001b[0m in \u001b[0;36m<module>\u001b[0;34m()\u001b[0m\n\u001b[1;32m     53\u001b[0m \u001b[0;34m\u001b[0m\u001b[0m\n\u001b[1;32m     54\u001b[0m \u001b[0;31m# Start training.\u001b[0m\u001b[0;34m\u001b[0m\u001b[0;34m\u001b[0m\u001b[0;34m\u001b[0m\u001b[0m\n\u001b[0;32m---> 55\u001b[0;31m \u001b[0mtrainer\u001b[0m\u001b[0;34m.\u001b[0m\u001b[0mrun\u001b[0m\u001b[0;34m(\u001b[0m\u001b[0mtrain_loader\u001b[0m\u001b[0;34m,\u001b[0m \u001b[0mmax_epochs\u001b[0m\u001b[0;34m=\u001b[0m\u001b[0mnum_epochs\u001b[0m\u001b[0;34m)\u001b[0m\u001b[0;34m\u001b[0m\u001b[0;34m\u001b[0m\u001b[0m\n\u001b[0m",
            "\u001b[0;32m/usr/local/lib/python3.7/dist-packages/ignite/engine/engine.py\u001b[0m in \u001b[0;36mrun\u001b[0;34m(self, data, max_epochs, epoch_length, seed)\u001b[0m\n\u001b[1;32m    699\u001b[0m \u001b[0;34m\u001b[0m\u001b[0m\n\u001b[1;32m    700\u001b[0m         \u001b[0mself\u001b[0m\u001b[0;34m.\u001b[0m\u001b[0mstate\u001b[0m\u001b[0;34m.\u001b[0m\u001b[0mdataloader\u001b[0m \u001b[0;34m=\u001b[0m \u001b[0mdata\u001b[0m\u001b[0;34m\u001b[0m\u001b[0;34m\u001b[0m\u001b[0m\n\u001b[0;32m--> 701\u001b[0;31m         \u001b[0;32mreturn\u001b[0m \u001b[0mself\u001b[0m\u001b[0;34m.\u001b[0m\u001b[0m_internal_run\u001b[0m\u001b[0;34m(\u001b[0m\u001b[0;34m)\u001b[0m\u001b[0;34m\u001b[0m\u001b[0;34m\u001b[0m\u001b[0m\n\u001b[0m\u001b[1;32m    702\u001b[0m \u001b[0;34m\u001b[0m\u001b[0m\n\u001b[1;32m    703\u001b[0m     \u001b[0;34m@\u001b[0m\u001b[0mstaticmethod\u001b[0m\u001b[0;34m\u001b[0m\u001b[0;34m\u001b[0m\u001b[0m\n",
            "\u001b[0;32m/usr/local/lib/python3.7/dist-packages/ignite/engine/engine.py\u001b[0m in \u001b[0;36m_internal_run\u001b[0;34m(self)\u001b[0m\n\u001b[1;32m    772\u001b[0m             \u001b[0mself\u001b[0m\u001b[0;34m.\u001b[0m\u001b[0m_dataloader_iter\u001b[0m \u001b[0;34m=\u001b[0m \u001b[0;32mNone\u001b[0m\u001b[0;34m\u001b[0m\u001b[0;34m\u001b[0m\u001b[0m\n\u001b[1;32m    773\u001b[0m             \u001b[0mself\u001b[0m\u001b[0;34m.\u001b[0m\u001b[0mlogger\u001b[0m\u001b[0;34m.\u001b[0m\u001b[0merror\u001b[0m\u001b[0;34m(\u001b[0m\u001b[0;34mf\"Engine run is terminating due to exception: {e}\"\u001b[0m\u001b[0;34m)\u001b[0m\u001b[0;34m\u001b[0m\u001b[0;34m\u001b[0m\u001b[0m\n\u001b[0;32m--> 774\u001b[0;31m             \u001b[0mself\u001b[0m\u001b[0;34m.\u001b[0m\u001b[0m_handle_exception\u001b[0m\u001b[0;34m(\u001b[0m\u001b[0me\u001b[0m\u001b[0;34m)\u001b[0m\u001b[0;34m\u001b[0m\u001b[0;34m\u001b[0m\u001b[0m\n\u001b[0m\u001b[1;32m    775\u001b[0m \u001b[0;34m\u001b[0m\u001b[0m\n\u001b[1;32m    776\u001b[0m         \u001b[0mself\u001b[0m\u001b[0;34m.\u001b[0m\u001b[0m_dataloader_iter\u001b[0m \u001b[0;34m=\u001b[0m \u001b[0;32mNone\u001b[0m\u001b[0;34m\u001b[0m\u001b[0;34m\u001b[0m\u001b[0m\n",
            "\u001b[0;32m/usr/local/lib/python3.7/dist-packages/ignite/engine/engine.py\u001b[0m in \u001b[0;36m_handle_exception\u001b[0;34m(self, e)\u001b[0m\n\u001b[1;32m    467\u001b[0m             \u001b[0mself\u001b[0m\u001b[0;34m.\u001b[0m\u001b[0m_fire_event\u001b[0m\u001b[0;34m(\u001b[0m\u001b[0mEvents\u001b[0m\u001b[0;34m.\u001b[0m\u001b[0mEXCEPTION_RAISED\u001b[0m\u001b[0;34m,\u001b[0m \u001b[0me\u001b[0m\u001b[0;34m)\u001b[0m\u001b[0;34m\u001b[0m\u001b[0;34m\u001b[0m\u001b[0m\n\u001b[1;32m    468\u001b[0m         \u001b[0;32melse\u001b[0m\u001b[0;34m:\u001b[0m\u001b[0;34m\u001b[0m\u001b[0;34m\u001b[0m\u001b[0m\n\u001b[0;32m--> 469\u001b[0;31m             \u001b[0;32mraise\u001b[0m \u001b[0me\u001b[0m\u001b[0;34m\u001b[0m\u001b[0;34m\u001b[0m\u001b[0m\n\u001b[0m\u001b[1;32m    470\u001b[0m \u001b[0;34m\u001b[0m\u001b[0m\n\u001b[1;32m    471\u001b[0m     \u001b[0;34m@\u001b[0m\u001b[0mproperty\u001b[0m\u001b[0;34m\u001b[0m\u001b[0;34m\u001b[0m\u001b[0m\n",
            "\u001b[0;32m/usr/local/lib/python3.7/dist-packages/ignite/engine/engine.py\u001b[0m in \u001b[0;36m_internal_run\u001b[0;34m(self)\u001b[0m\n\u001b[1;32m    742\u001b[0m                     \u001b[0mself\u001b[0m\u001b[0;34m.\u001b[0m\u001b[0m_setup_engine\u001b[0m\u001b[0;34m(\u001b[0m\u001b[0;34m)\u001b[0m\u001b[0;34m\u001b[0m\u001b[0;34m\u001b[0m\u001b[0m\n\u001b[1;32m    743\u001b[0m \u001b[0;34m\u001b[0m\u001b[0m\n\u001b[0;32m--> 744\u001b[0;31m                 \u001b[0mtime_taken\u001b[0m \u001b[0;34m=\u001b[0m \u001b[0mself\u001b[0m\u001b[0;34m.\u001b[0m\u001b[0m_run_once_on_dataset\u001b[0m\u001b[0;34m(\u001b[0m\u001b[0;34m)\u001b[0m\u001b[0;34m\u001b[0m\u001b[0;34m\u001b[0m\u001b[0m\n\u001b[0m\u001b[1;32m    745\u001b[0m                 \u001b[0;31m# time is available for handlers but must be update after fire\u001b[0m\u001b[0;34m\u001b[0m\u001b[0;34m\u001b[0m\u001b[0;34m\u001b[0m\u001b[0m\n\u001b[1;32m    746\u001b[0m                 \u001b[0mself\u001b[0m\u001b[0;34m.\u001b[0m\u001b[0mstate\u001b[0m\u001b[0;34m.\u001b[0m\u001b[0mtimes\u001b[0m\u001b[0;34m[\u001b[0m\u001b[0mEvents\u001b[0m\u001b[0;34m.\u001b[0m\u001b[0mEPOCH_COMPLETED\u001b[0m\u001b[0;34m.\u001b[0m\u001b[0mname\u001b[0m\u001b[0;34m]\u001b[0m \u001b[0;34m=\u001b[0m \u001b[0mtime_taken\u001b[0m\u001b[0;34m\u001b[0m\u001b[0;34m\u001b[0m\u001b[0m\n",
            "\u001b[0;32m/usr/local/lib/python3.7/dist-packages/ignite/engine/engine.py\u001b[0m in \u001b[0;36m_run_once_on_dataset\u001b[0;34m(self)\u001b[0m\n\u001b[1;32m    846\u001b[0m         \u001b[0;32mexcept\u001b[0m \u001b[0mException\u001b[0m \u001b[0;32mas\u001b[0m \u001b[0me\u001b[0m\u001b[0;34m:\u001b[0m\u001b[0;34m\u001b[0m\u001b[0;34m\u001b[0m\u001b[0m\n\u001b[1;32m    847\u001b[0m             \u001b[0mself\u001b[0m\u001b[0;34m.\u001b[0m\u001b[0mlogger\u001b[0m\u001b[0;34m.\u001b[0m\u001b[0merror\u001b[0m\u001b[0;34m(\u001b[0m\u001b[0;34mf\"Current run is terminating due to exception: {e}\"\u001b[0m\u001b[0;34m)\u001b[0m\u001b[0;34m\u001b[0m\u001b[0;34m\u001b[0m\u001b[0m\n\u001b[0;32m--> 848\u001b[0;31m             \u001b[0mself\u001b[0m\u001b[0;34m.\u001b[0m\u001b[0m_handle_exception\u001b[0m\u001b[0;34m(\u001b[0m\u001b[0me\u001b[0m\u001b[0;34m)\u001b[0m\u001b[0;34m\u001b[0m\u001b[0;34m\u001b[0m\u001b[0m\n\u001b[0m\u001b[1;32m    849\u001b[0m \u001b[0;34m\u001b[0m\u001b[0m\n\u001b[1;32m    850\u001b[0m         \u001b[0;32mreturn\u001b[0m \u001b[0mtime\u001b[0m\u001b[0;34m.\u001b[0m\u001b[0mtime\u001b[0m\u001b[0;34m(\u001b[0m\u001b[0;34m)\u001b[0m \u001b[0;34m-\u001b[0m \u001b[0mstart_time\u001b[0m\u001b[0;34m\u001b[0m\u001b[0;34m\u001b[0m\u001b[0m\n",
            "\u001b[0;32m/usr/local/lib/python3.7/dist-packages/ignite/engine/engine.py\u001b[0m in \u001b[0;36m_handle_exception\u001b[0;34m(self, e)\u001b[0m\n\u001b[1;32m    467\u001b[0m             \u001b[0mself\u001b[0m\u001b[0;34m.\u001b[0m\u001b[0m_fire_event\u001b[0m\u001b[0;34m(\u001b[0m\u001b[0mEvents\u001b[0m\u001b[0;34m.\u001b[0m\u001b[0mEXCEPTION_RAISED\u001b[0m\u001b[0;34m,\u001b[0m \u001b[0me\u001b[0m\u001b[0;34m)\u001b[0m\u001b[0;34m\u001b[0m\u001b[0;34m\u001b[0m\u001b[0m\n\u001b[1;32m    468\u001b[0m         \u001b[0;32melse\u001b[0m\u001b[0;34m:\u001b[0m\u001b[0;34m\u001b[0m\u001b[0;34m\u001b[0m\u001b[0m\n\u001b[0;32m--> 469\u001b[0;31m             \u001b[0;32mraise\u001b[0m \u001b[0me\u001b[0m\u001b[0;34m\u001b[0m\u001b[0;34m\u001b[0m\u001b[0m\n\u001b[0m\u001b[1;32m    470\u001b[0m \u001b[0;34m\u001b[0m\u001b[0m\n\u001b[1;32m    471\u001b[0m     \u001b[0;34m@\u001b[0m\u001b[0mproperty\u001b[0m\u001b[0;34m\u001b[0m\u001b[0;34m\u001b[0m\u001b[0m\n",
            "\u001b[0;32m/usr/local/lib/python3.7/dist-packages/ignite/engine/engine.py\u001b[0m in \u001b[0;36m_run_once_on_dataset\u001b[0;34m(self)\u001b[0m\n\u001b[1;32m    832\u001b[0m                 \u001b[0mself\u001b[0m\u001b[0;34m.\u001b[0m\u001b[0mstate\u001b[0m\u001b[0;34m.\u001b[0m\u001b[0miteration\u001b[0m \u001b[0;34m+=\u001b[0m \u001b[0;36m1\u001b[0m\u001b[0;34m\u001b[0m\u001b[0;34m\u001b[0m\u001b[0m\n\u001b[1;32m    833\u001b[0m                 \u001b[0mself\u001b[0m\u001b[0;34m.\u001b[0m\u001b[0m_fire_event\u001b[0m\u001b[0;34m(\u001b[0m\u001b[0mEvents\u001b[0m\u001b[0;34m.\u001b[0m\u001b[0mITERATION_STARTED\u001b[0m\u001b[0;34m)\u001b[0m\u001b[0;34m\u001b[0m\u001b[0;34m\u001b[0m\u001b[0m\n\u001b[0;32m--> 834\u001b[0;31m                 \u001b[0mself\u001b[0m\u001b[0;34m.\u001b[0m\u001b[0mstate\u001b[0m\u001b[0;34m.\u001b[0m\u001b[0moutput\u001b[0m \u001b[0;34m=\u001b[0m \u001b[0mself\u001b[0m\u001b[0;34m.\u001b[0m\u001b[0m_process_function\u001b[0m\u001b[0;34m(\u001b[0m\u001b[0mself\u001b[0m\u001b[0;34m,\u001b[0m \u001b[0mself\u001b[0m\u001b[0;34m.\u001b[0m\u001b[0mstate\u001b[0m\u001b[0;34m.\u001b[0m\u001b[0mbatch\u001b[0m\u001b[0;34m)\u001b[0m\u001b[0;34m\u001b[0m\u001b[0;34m\u001b[0m\u001b[0m\n\u001b[0m\u001b[1;32m    835\u001b[0m                 \u001b[0mself\u001b[0m\u001b[0;34m.\u001b[0m\u001b[0m_fire_event\u001b[0m\u001b[0;34m(\u001b[0m\u001b[0mEvents\u001b[0m\u001b[0;34m.\u001b[0m\u001b[0mITERATION_COMPLETED\u001b[0m\u001b[0;34m)\u001b[0m\u001b[0;34m\u001b[0m\u001b[0;34m\u001b[0m\u001b[0m\n\u001b[1;32m    836\u001b[0m \u001b[0;34m\u001b[0m\u001b[0m\n",
            "\u001b[0;32m/usr/local/lib/python3.7/dist-packages/ignite/engine/__init__.py\u001b[0m in \u001b[0;36mupdate\u001b[0;34m(engine, batch)\u001b[0m\n\u001b[1;32m     90\u001b[0m         \u001b[0moptimizer\u001b[0m\u001b[0;34m.\u001b[0m\u001b[0mzero_grad\u001b[0m\u001b[0;34m(\u001b[0m\u001b[0;34m)\u001b[0m\u001b[0;34m\u001b[0m\u001b[0;34m\u001b[0m\u001b[0m\n\u001b[1;32m     91\u001b[0m         \u001b[0mx\u001b[0m\u001b[0;34m,\u001b[0m \u001b[0my\u001b[0m \u001b[0;34m=\u001b[0m \u001b[0mprepare_batch\u001b[0m\u001b[0;34m(\u001b[0m\u001b[0mbatch\u001b[0m\u001b[0;34m,\u001b[0m \u001b[0mdevice\u001b[0m\u001b[0;34m=\u001b[0m\u001b[0mdevice\u001b[0m\u001b[0;34m,\u001b[0m \u001b[0mnon_blocking\u001b[0m\u001b[0;34m=\u001b[0m\u001b[0mnon_blocking\u001b[0m\u001b[0;34m)\u001b[0m\u001b[0;34m\u001b[0m\u001b[0;34m\u001b[0m\u001b[0m\n\u001b[0;32m---> 92\u001b[0;31m         \u001b[0my_pred\u001b[0m \u001b[0;34m=\u001b[0m \u001b[0mmodel\u001b[0m\u001b[0;34m(\u001b[0m\u001b[0mx\u001b[0m\u001b[0;34m)\u001b[0m\u001b[0;34m\u001b[0m\u001b[0;34m\u001b[0m\u001b[0m\n\u001b[0m\u001b[1;32m     93\u001b[0m         \u001b[0mloss\u001b[0m \u001b[0;34m=\u001b[0m \u001b[0mloss_fn\u001b[0m\u001b[0;34m(\u001b[0m\u001b[0my_pred\u001b[0m\u001b[0;34m,\u001b[0m \u001b[0my\u001b[0m\u001b[0;34m)\u001b[0m\u001b[0;34m\u001b[0m\u001b[0;34m\u001b[0m\u001b[0m\n\u001b[1;32m     94\u001b[0m         \u001b[0mloss\u001b[0m\u001b[0;34m.\u001b[0m\u001b[0mbackward\u001b[0m\u001b[0;34m(\u001b[0m\u001b[0;34m)\u001b[0m\u001b[0;34m\u001b[0m\u001b[0;34m\u001b[0m\u001b[0m\n",
            "\u001b[0;32m/usr/local/lib/python3.7/dist-packages/torch/nn/modules/module.py\u001b[0m in \u001b[0;36m_call_impl\u001b[0;34m(self, *input, **kwargs)\u001b[0m\n\u001b[1;32m   1049\u001b[0m         if not (self._backward_hooks or self._forward_hooks or self._forward_pre_hooks or _global_backward_hooks\n\u001b[1;32m   1050\u001b[0m                 or _global_forward_hooks or _global_forward_pre_hooks):\n\u001b[0;32m-> 1051\u001b[0;31m             \u001b[0;32mreturn\u001b[0m \u001b[0mforward_call\u001b[0m\u001b[0;34m(\u001b[0m\u001b[0;34m*\u001b[0m\u001b[0minput\u001b[0m\u001b[0;34m,\u001b[0m \u001b[0;34m**\u001b[0m\u001b[0mkwargs\u001b[0m\u001b[0;34m)\u001b[0m\u001b[0;34m\u001b[0m\u001b[0;34m\u001b[0m\u001b[0m\n\u001b[0m\u001b[1;32m   1052\u001b[0m         \u001b[0;31m# Do not call functions when jit is used\u001b[0m\u001b[0;34m\u001b[0m\u001b[0;34m\u001b[0m\u001b[0;34m\u001b[0m\u001b[0m\n\u001b[1;32m   1053\u001b[0m         \u001b[0mfull_backward_hooks\u001b[0m\u001b[0;34m,\u001b[0m \u001b[0mnon_full_backward_hooks\u001b[0m \u001b[0;34m=\u001b[0m \u001b[0;34m[\u001b[0m\u001b[0;34m]\u001b[0m\u001b[0;34m,\u001b[0m \u001b[0;34m[\u001b[0m\u001b[0;34m]\u001b[0m\u001b[0;34m\u001b[0m\u001b[0;34m\u001b[0m\u001b[0m\n",
            "\u001b[0;32m/usr/local/lib/python3.7/dist-packages/torchvision/models/alexnet.py\u001b[0m in \u001b[0;36mforward\u001b[0;34m(self, x)\u001b[0m\n\u001b[1;32m     44\u001b[0m \u001b[0;34m\u001b[0m\u001b[0m\n\u001b[1;32m     45\u001b[0m     \u001b[0;32mdef\u001b[0m \u001b[0mforward\u001b[0m\u001b[0;34m(\u001b[0m\u001b[0mself\u001b[0m\u001b[0;34m,\u001b[0m \u001b[0mx\u001b[0m\u001b[0;34m:\u001b[0m \u001b[0mtorch\u001b[0m\u001b[0;34m.\u001b[0m\u001b[0mTensor\u001b[0m\u001b[0;34m)\u001b[0m \u001b[0;34m->\u001b[0m \u001b[0mtorch\u001b[0m\u001b[0;34m.\u001b[0m\u001b[0mTensor\u001b[0m\u001b[0;34m:\u001b[0m\u001b[0;34m\u001b[0m\u001b[0;34m\u001b[0m\u001b[0m\n\u001b[0;32m---> 46\u001b[0;31m         \u001b[0mx\u001b[0m \u001b[0;34m=\u001b[0m \u001b[0mself\u001b[0m\u001b[0;34m.\u001b[0m\u001b[0mfeatures\u001b[0m\u001b[0;34m(\u001b[0m\u001b[0mx\u001b[0m\u001b[0;34m)\u001b[0m\u001b[0;34m\u001b[0m\u001b[0;34m\u001b[0m\u001b[0m\n\u001b[0m\u001b[1;32m     47\u001b[0m         \u001b[0mx\u001b[0m \u001b[0;34m=\u001b[0m \u001b[0mself\u001b[0m\u001b[0;34m.\u001b[0m\u001b[0mavgpool\u001b[0m\u001b[0;34m(\u001b[0m\u001b[0mx\u001b[0m\u001b[0;34m)\u001b[0m\u001b[0;34m\u001b[0m\u001b[0;34m\u001b[0m\u001b[0m\n\u001b[1;32m     48\u001b[0m         \u001b[0mx\u001b[0m \u001b[0;34m=\u001b[0m \u001b[0mtorch\u001b[0m\u001b[0;34m.\u001b[0m\u001b[0mflatten\u001b[0m\u001b[0;34m(\u001b[0m\u001b[0mx\u001b[0m\u001b[0;34m,\u001b[0m \u001b[0;36m1\u001b[0m\u001b[0;34m)\u001b[0m\u001b[0;34m\u001b[0m\u001b[0;34m\u001b[0m\u001b[0m\n",
            "\u001b[0;32m/usr/local/lib/python3.7/dist-packages/torch/nn/modules/module.py\u001b[0m in \u001b[0;36m_call_impl\u001b[0;34m(self, *input, **kwargs)\u001b[0m\n\u001b[1;32m   1049\u001b[0m         if not (self._backward_hooks or self._forward_hooks or self._forward_pre_hooks or _global_backward_hooks\n\u001b[1;32m   1050\u001b[0m                 or _global_forward_hooks or _global_forward_pre_hooks):\n\u001b[0;32m-> 1051\u001b[0;31m             \u001b[0;32mreturn\u001b[0m \u001b[0mforward_call\u001b[0m\u001b[0;34m(\u001b[0m\u001b[0;34m*\u001b[0m\u001b[0minput\u001b[0m\u001b[0;34m,\u001b[0m \u001b[0;34m**\u001b[0m\u001b[0mkwargs\u001b[0m\u001b[0;34m)\u001b[0m\u001b[0;34m\u001b[0m\u001b[0;34m\u001b[0m\u001b[0m\n\u001b[0m\u001b[1;32m   1052\u001b[0m         \u001b[0;31m# Do not call functions when jit is used\u001b[0m\u001b[0;34m\u001b[0m\u001b[0;34m\u001b[0m\u001b[0;34m\u001b[0m\u001b[0m\n\u001b[1;32m   1053\u001b[0m         \u001b[0mfull_backward_hooks\u001b[0m\u001b[0;34m,\u001b[0m \u001b[0mnon_full_backward_hooks\u001b[0m \u001b[0;34m=\u001b[0m \u001b[0;34m[\u001b[0m\u001b[0;34m]\u001b[0m\u001b[0;34m,\u001b[0m \u001b[0;34m[\u001b[0m\u001b[0;34m]\u001b[0m\u001b[0;34m\u001b[0m\u001b[0;34m\u001b[0m\u001b[0m\n",
            "\u001b[0;32m/usr/local/lib/python3.7/dist-packages/torch/nn/modules/container.py\u001b[0m in \u001b[0;36mforward\u001b[0;34m(self, input)\u001b[0m\n\u001b[1;32m    137\u001b[0m     \u001b[0;32mdef\u001b[0m \u001b[0mforward\u001b[0m\u001b[0;34m(\u001b[0m\u001b[0mself\u001b[0m\u001b[0;34m,\u001b[0m \u001b[0minput\u001b[0m\u001b[0;34m)\u001b[0m\u001b[0;34m:\u001b[0m\u001b[0;34m\u001b[0m\u001b[0;34m\u001b[0m\u001b[0m\n\u001b[1;32m    138\u001b[0m         \u001b[0;32mfor\u001b[0m \u001b[0mmodule\u001b[0m \u001b[0;32min\u001b[0m \u001b[0mself\u001b[0m\u001b[0;34m:\u001b[0m\u001b[0;34m\u001b[0m\u001b[0;34m\u001b[0m\u001b[0m\n\u001b[0;32m--> 139\u001b[0;31m             \u001b[0minput\u001b[0m \u001b[0;34m=\u001b[0m \u001b[0mmodule\u001b[0m\u001b[0;34m(\u001b[0m\u001b[0minput\u001b[0m\u001b[0;34m)\u001b[0m\u001b[0;34m\u001b[0m\u001b[0;34m\u001b[0m\u001b[0m\n\u001b[0m\u001b[1;32m    140\u001b[0m         \u001b[0;32mreturn\u001b[0m \u001b[0minput\u001b[0m\u001b[0;34m\u001b[0m\u001b[0;34m\u001b[0m\u001b[0m\n\u001b[1;32m    141\u001b[0m \u001b[0;34m\u001b[0m\u001b[0m\n",
            "\u001b[0;32m/usr/local/lib/python3.7/dist-packages/torch/nn/modules/module.py\u001b[0m in \u001b[0;36m_call_impl\u001b[0;34m(self, *input, **kwargs)\u001b[0m\n\u001b[1;32m   1049\u001b[0m         if not (self._backward_hooks or self._forward_hooks or self._forward_pre_hooks or _global_backward_hooks\n\u001b[1;32m   1050\u001b[0m                 or _global_forward_hooks or _global_forward_pre_hooks):\n\u001b[0;32m-> 1051\u001b[0;31m             \u001b[0;32mreturn\u001b[0m \u001b[0mforward_call\u001b[0m\u001b[0;34m(\u001b[0m\u001b[0;34m*\u001b[0m\u001b[0minput\u001b[0m\u001b[0;34m,\u001b[0m \u001b[0;34m**\u001b[0m\u001b[0mkwargs\u001b[0m\u001b[0;34m)\u001b[0m\u001b[0;34m\u001b[0m\u001b[0;34m\u001b[0m\u001b[0m\n\u001b[0m\u001b[1;32m   1052\u001b[0m         \u001b[0;31m# Do not call functions when jit is used\u001b[0m\u001b[0;34m\u001b[0m\u001b[0;34m\u001b[0m\u001b[0;34m\u001b[0m\u001b[0m\n\u001b[1;32m   1053\u001b[0m         \u001b[0mfull_backward_hooks\u001b[0m\u001b[0;34m,\u001b[0m \u001b[0mnon_full_backward_hooks\u001b[0m \u001b[0;34m=\u001b[0m \u001b[0;34m[\u001b[0m\u001b[0;34m]\u001b[0m\u001b[0;34m,\u001b[0m \u001b[0;34m[\u001b[0m\u001b[0;34m]\u001b[0m\u001b[0;34m\u001b[0m\u001b[0;34m\u001b[0m\u001b[0m\n",
            "\u001b[0;32m/usr/local/lib/python3.7/dist-packages/torch/nn/modules/pooling.py\u001b[0m in \u001b[0;36mforward\u001b[0;34m(self, input)\u001b[0m\n\u001b[1;32m    162\u001b[0m         return F.max_pool2d(input, self.kernel_size, self.stride,\n\u001b[1;32m    163\u001b[0m                             \u001b[0mself\u001b[0m\u001b[0;34m.\u001b[0m\u001b[0mpadding\u001b[0m\u001b[0;34m,\u001b[0m \u001b[0mself\u001b[0m\u001b[0;34m.\u001b[0m\u001b[0mdilation\u001b[0m\u001b[0;34m,\u001b[0m \u001b[0mself\u001b[0m\u001b[0;34m.\u001b[0m\u001b[0mceil_mode\u001b[0m\u001b[0;34m,\u001b[0m\u001b[0;34m\u001b[0m\u001b[0;34m\u001b[0m\u001b[0m\n\u001b[0;32m--> 164\u001b[0;31m                             self.return_indices)\n\u001b[0m\u001b[1;32m    165\u001b[0m \u001b[0;34m\u001b[0m\u001b[0m\n\u001b[1;32m    166\u001b[0m \u001b[0;34m\u001b[0m\u001b[0m\n",
            "\u001b[0;32m/usr/local/lib/python3.7/dist-packages/torch/_jit_internal.py\u001b[0m in \u001b[0;36mfn\u001b[0;34m(*args, **kwargs)\u001b[0m\n\u001b[1;32m    403\u001b[0m             \u001b[0;32mreturn\u001b[0m \u001b[0mif_true\u001b[0m\u001b[0;34m(\u001b[0m\u001b[0;34m*\u001b[0m\u001b[0margs\u001b[0m\u001b[0;34m,\u001b[0m \u001b[0;34m**\u001b[0m\u001b[0mkwargs\u001b[0m\u001b[0;34m)\u001b[0m\u001b[0;34m\u001b[0m\u001b[0;34m\u001b[0m\u001b[0m\n\u001b[1;32m    404\u001b[0m         \u001b[0;32melse\u001b[0m\u001b[0;34m:\u001b[0m\u001b[0;34m\u001b[0m\u001b[0;34m\u001b[0m\u001b[0m\n\u001b[0;32m--> 405\u001b[0;31m             \u001b[0;32mreturn\u001b[0m \u001b[0mif_false\u001b[0m\u001b[0;34m(\u001b[0m\u001b[0;34m*\u001b[0m\u001b[0margs\u001b[0m\u001b[0;34m,\u001b[0m \u001b[0;34m**\u001b[0m\u001b[0mkwargs\u001b[0m\u001b[0;34m)\u001b[0m\u001b[0;34m\u001b[0m\u001b[0;34m\u001b[0m\u001b[0m\n\u001b[0m\u001b[1;32m    406\u001b[0m \u001b[0;34m\u001b[0m\u001b[0m\n\u001b[1;32m    407\u001b[0m     \u001b[0;32mif\u001b[0m \u001b[0mif_true\u001b[0m\u001b[0;34m.\u001b[0m\u001b[0m__doc__\u001b[0m \u001b[0;32mis\u001b[0m \u001b[0;32mNone\u001b[0m \u001b[0;32mand\u001b[0m \u001b[0mif_false\u001b[0m\u001b[0;34m.\u001b[0m\u001b[0m__doc__\u001b[0m \u001b[0;32mis\u001b[0m \u001b[0;32mnot\u001b[0m \u001b[0;32mNone\u001b[0m\u001b[0;34m:\u001b[0m\u001b[0;34m\u001b[0m\u001b[0;34m\u001b[0m\u001b[0m\n",
            "\u001b[0;32m/usr/local/lib/python3.7/dist-packages/torch/nn/functional.py\u001b[0m in \u001b[0;36m_max_pool2d\u001b[0;34m(input, kernel_size, stride, padding, dilation, ceil_mode, return_indices)\u001b[0m\n\u001b[1;32m    716\u001b[0m     \u001b[0;32mif\u001b[0m \u001b[0mstride\u001b[0m \u001b[0;32mis\u001b[0m \u001b[0;32mNone\u001b[0m\u001b[0;34m:\u001b[0m\u001b[0;34m\u001b[0m\u001b[0;34m\u001b[0m\u001b[0m\n\u001b[1;32m    717\u001b[0m         \u001b[0mstride\u001b[0m \u001b[0;34m=\u001b[0m \u001b[0mtorch\u001b[0m\u001b[0;34m.\u001b[0m\u001b[0mjit\u001b[0m\u001b[0;34m.\u001b[0m\u001b[0mannotate\u001b[0m\u001b[0;34m(\u001b[0m\u001b[0mList\u001b[0m\u001b[0;34m[\u001b[0m\u001b[0mint\u001b[0m\u001b[0;34m]\u001b[0m\u001b[0;34m,\u001b[0m \u001b[0;34m[\u001b[0m\u001b[0;34m]\u001b[0m\u001b[0;34m)\u001b[0m\u001b[0;34m\u001b[0m\u001b[0;34m\u001b[0m\u001b[0m\n\u001b[0;32m--> 718\u001b[0;31m     \u001b[0;32mreturn\u001b[0m \u001b[0mtorch\u001b[0m\u001b[0;34m.\u001b[0m\u001b[0mmax_pool2d\u001b[0m\u001b[0;34m(\u001b[0m\u001b[0minput\u001b[0m\u001b[0;34m,\u001b[0m \u001b[0mkernel_size\u001b[0m\u001b[0;34m,\u001b[0m \u001b[0mstride\u001b[0m\u001b[0;34m,\u001b[0m \u001b[0mpadding\u001b[0m\u001b[0;34m,\u001b[0m \u001b[0mdilation\u001b[0m\u001b[0;34m,\u001b[0m \u001b[0mceil_mode\u001b[0m\u001b[0;34m)\u001b[0m\u001b[0;34m\u001b[0m\u001b[0;34m\u001b[0m\u001b[0m\n\u001b[0m\u001b[1;32m    719\u001b[0m \u001b[0;34m\u001b[0m\u001b[0m\n\u001b[1;32m    720\u001b[0m \u001b[0;34m\u001b[0m\u001b[0m\n",
            "\u001b[0;31mRuntimeError\u001b[0m: Given input size: (256x2x2). Calculated output size: (256x0x0). Output size is too small"
          ]
        }
      ]
    },
    {
      "cell_type": "code",
      "metadata": {
        "id": "LqDuCjJL_U0v"
      },
      "source": [
        "evaluator.state.metrics"
      ],
      "execution_count": null,
      "outputs": []
    },
    {
      "cell_type": "code",
      "metadata": {
        "id": "yZn3o8Fw_VFM"
      },
      "source": [
        ""
      ],
      "execution_count": null,
      "outputs": []
    },
    {
      "cell_type": "markdown",
      "metadata": {
        "id": "5rDsUU82NICA"
      },
      "source": [
        "___\n",
        "### References\n",
        "- https://github.com/ZohebAbai/Tiny-ImageNet-Challenge/blob/master/TinyImageNet_Network_1.ipynb\n",
        "- https://blog.paperspace.com/dataloaders-abstractions-pytorch/\n",
        "- https://github.com/DennisHanyuanXu/Tiny-ImageNet/blob/master/src/data_prep.py)\n",
        "- https://www.kaggle.com/ivankunyankin/resnet18-from-scratch-using-pytorch\n",
        "- http://cs231n.stanford.edu/reports/2015/pdfs/banerjee_iyer.pdf\n",
        "- https://pytorch.org/ignite/quickstart.html\n",
        "- https://traingenerator.jrieke.com/"
      ]
    }
  ]
}